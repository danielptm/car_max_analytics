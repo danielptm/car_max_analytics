{
 "cells": [
  {
   "cell_type": "code",
   "execution_count": 1,
   "id": "1a2b1ae1-eaee-4168-97d5-023b51d5d0b3",
   "metadata": {
    "ExecuteTime": {
     "end_time": "2023-11-24T00:31:36.166787Z",
     "start_time": "2023-11-24T00:31:35.666823Z"
    }
   },
   "outputs": [
    {
     "data": {
      "text/plain": "        price  appraisal_offer make_appraisal model_appraisal  \\\n0       19500            18800            Kia        Sportage   \n1       24000             9000           Ford          Escape   \n2       24000             9800          Dodge      Challenger   \n3       33000            14600         Toyota          Tacoma   \n4       14200            19500           Jeep        Cherokee   \n...       ...              ...            ...             ...   \n132712  16500             3400        Hyundai         Elantra   \n132713  20200            10500          Honda           Civic   \n132714  21700             5300  Mercedes-Benz           ML350   \n132715  21700             8300            Kia           Forte   \n132716  20200             5600         Toyota         Corolla   \n\n       trim_level_appraisal  model_year_appraisal  mileage_appraisal  \\\n0               Not Premium                  2014              19300   \n1                   Premium                  2012              39300   \n2               Not Premium                  2013             106100   \n3                   Premium                  2014             105800   \n4               Not Premium                  2015              20400   \n...                     ...                   ...                ...   \n132712              Premium                  2010              97800   \n132713          Not Premium                  2012              40300   \n132714                  NaN                  2004              75800   \n132715          Not Premium                  2013              47300   \n132716          Not Premium                  2010              75000   \n\n       engine_appraisal  cylinders_appraisal  mpg_city_appraisal  ...  \\\n0                  2.4L                    4                21.0  ...   \n1                  1.6L                    4                22.0  ...   \n2                  3.6L                    6                19.0  ...   \n3                  3.5L                    6                19.0  ...   \n4                  2.4L                    4                22.0  ...   \n...                 ...                  ...                 ...  ...   \n132712             1.8L                    4                28.0  ...   \n132713             2.0L                    4                31.0  ...   \n132714             3.5L                    6                15.0  ...   \n132715             2.0L                    4                29.0  ...   \n132716             1.8L                    4                27.0  ...   \n\n        cylinders  mpg_city  mpg_highway horsepower fuel_capacity  \\\n0               3      24.0         34.0        134            16   \n1               6      19.0         27.0        271            15   \n2               4       NaN          NaN        248            12   \n3               6      18.0         24.0        380            16   \n4               4       NaN          NaN        188            14   \n...           ...       ...          ...        ...           ...   \n132712          4      22.0         32.0        228            16   \n132713          4      22.0         31.0        228            16   \n132714          4      22.0         31.0        228            16   \n132715          4      22.0         31.0        228            16   \n132716          4      21.0         28.0        240            17   \n\n                     vehicle_type  color online_appraisal_flag  state  \\\n0       Small SUV                   Gray                   0.0     CA   \n1       Small SUV                  Black                   0.0     IL   \n2       Luxury                     White                   0.0     CA   \n3       Medium SUV                 Black                   1.0     CA   \n4       Small SUV                   Gold                   0.0     FL   \n...                           ...    ...                   ...    ...   \n132712  Small SUV                  White                   0.0     CA   \n132713  Small SUV                  Black                   0.0     CA   \n132714  Small SUV                  Black                   0.0     CA   \n132715  Small SUV                  White                   0.0     CA   \n132716  Small SUV                  Black                   1.0     CA   \n\n        days_since_offer  \n0                      0  \n1                      0  \n2                      0  \n3                      1  \n4                      0  \n...                  ...  \n132712                 0  \n132713                 0  \n132714                 0  \n132715                 0  \n132716                 3  \n\n[132717 rows x 31 columns]",
      "text/html": "<div>\n<style scoped>\n    .dataframe tbody tr th:only-of-type {\n        vertical-align: middle;\n    }\n\n    .dataframe tbody tr th {\n        vertical-align: top;\n    }\n\n    .dataframe thead th {\n        text-align: right;\n    }\n</style>\n<table border=\"1\" class=\"dataframe\">\n  <thead>\n    <tr style=\"text-align: right;\">\n      <th></th>\n      <th>price</th>\n      <th>appraisal_offer</th>\n      <th>make_appraisal</th>\n      <th>model_appraisal</th>\n      <th>trim_level_appraisal</th>\n      <th>model_year_appraisal</th>\n      <th>mileage_appraisal</th>\n      <th>engine_appraisal</th>\n      <th>cylinders_appraisal</th>\n      <th>mpg_city_appraisal</th>\n      <th>...</th>\n      <th>cylinders</th>\n      <th>mpg_city</th>\n      <th>mpg_highway</th>\n      <th>horsepower</th>\n      <th>fuel_capacity</th>\n      <th>vehicle_type</th>\n      <th>color</th>\n      <th>online_appraisal_flag</th>\n      <th>state</th>\n      <th>days_since_offer</th>\n    </tr>\n  </thead>\n  <tbody>\n    <tr>\n      <th>0</th>\n      <td>19500</td>\n      <td>18800</td>\n      <td>Kia</td>\n      <td>Sportage</td>\n      <td>Not Premium</td>\n      <td>2014</td>\n      <td>19300</td>\n      <td>2.4L</td>\n      <td>4</td>\n      <td>21.0</td>\n      <td>...</td>\n      <td>3</td>\n      <td>24.0</td>\n      <td>34.0</td>\n      <td>134</td>\n      <td>16</td>\n      <td>Small SUV</td>\n      <td>Gray</td>\n      <td>0.0</td>\n      <td>CA</td>\n      <td>0</td>\n    </tr>\n    <tr>\n      <th>1</th>\n      <td>24000</td>\n      <td>9000</td>\n      <td>Ford</td>\n      <td>Escape</td>\n      <td>Premium</td>\n      <td>2012</td>\n      <td>39300</td>\n      <td>1.6L</td>\n      <td>4</td>\n      <td>22.0</td>\n      <td>...</td>\n      <td>6</td>\n      <td>19.0</td>\n      <td>27.0</td>\n      <td>271</td>\n      <td>15</td>\n      <td>Small SUV</td>\n      <td>Black</td>\n      <td>0.0</td>\n      <td>IL</td>\n      <td>0</td>\n    </tr>\n    <tr>\n      <th>2</th>\n      <td>24000</td>\n      <td>9800</td>\n      <td>Dodge</td>\n      <td>Challenger</td>\n      <td>Not Premium</td>\n      <td>2013</td>\n      <td>106100</td>\n      <td>3.6L</td>\n      <td>6</td>\n      <td>19.0</td>\n      <td>...</td>\n      <td>4</td>\n      <td>NaN</td>\n      <td>NaN</td>\n      <td>248</td>\n      <td>12</td>\n      <td>Luxury</td>\n      <td>White</td>\n      <td>0.0</td>\n      <td>CA</td>\n      <td>0</td>\n    </tr>\n    <tr>\n      <th>3</th>\n      <td>33000</td>\n      <td>14600</td>\n      <td>Toyota</td>\n      <td>Tacoma</td>\n      <td>Premium</td>\n      <td>2014</td>\n      <td>105800</td>\n      <td>3.5L</td>\n      <td>6</td>\n      <td>19.0</td>\n      <td>...</td>\n      <td>6</td>\n      <td>18.0</td>\n      <td>24.0</td>\n      <td>380</td>\n      <td>16</td>\n      <td>Medium SUV</td>\n      <td>Black</td>\n      <td>1.0</td>\n      <td>CA</td>\n      <td>1</td>\n    </tr>\n    <tr>\n      <th>4</th>\n      <td>14200</td>\n      <td>19500</td>\n      <td>Jeep</td>\n      <td>Cherokee</td>\n      <td>Not Premium</td>\n      <td>2015</td>\n      <td>20400</td>\n      <td>2.4L</td>\n      <td>4</td>\n      <td>22.0</td>\n      <td>...</td>\n      <td>4</td>\n      <td>NaN</td>\n      <td>NaN</td>\n      <td>188</td>\n      <td>14</td>\n      <td>Small SUV</td>\n      <td>Gold</td>\n      <td>0.0</td>\n      <td>FL</td>\n      <td>0</td>\n    </tr>\n    <tr>\n      <th>...</th>\n      <td>...</td>\n      <td>...</td>\n      <td>...</td>\n      <td>...</td>\n      <td>...</td>\n      <td>...</td>\n      <td>...</td>\n      <td>...</td>\n      <td>...</td>\n      <td>...</td>\n      <td>...</td>\n      <td>...</td>\n      <td>...</td>\n      <td>...</td>\n      <td>...</td>\n      <td>...</td>\n      <td>...</td>\n      <td>...</td>\n      <td>...</td>\n      <td>...</td>\n      <td>...</td>\n    </tr>\n    <tr>\n      <th>132712</th>\n      <td>16500</td>\n      <td>3400</td>\n      <td>Hyundai</td>\n      <td>Elantra</td>\n      <td>Premium</td>\n      <td>2010</td>\n      <td>97800</td>\n      <td>1.8L</td>\n      <td>4</td>\n      <td>28.0</td>\n      <td>...</td>\n      <td>4</td>\n      <td>22.0</td>\n      <td>32.0</td>\n      <td>228</td>\n      <td>16</td>\n      <td>Small SUV</td>\n      <td>White</td>\n      <td>0.0</td>\n      <td>CA</td>\n      <td>0</td>\n    </tr>\n    <tr>\n      <th>132713</th>\n      <td>20200</td>\n      <td>10500</td>\n      <td>Honda</td>\n      <td>Civic</td>\n      <td>Not Premium</td>\n      <td>2012</td>\n      <td>40300</td>\n      <td>2.0L</td>\n      <td>4</td>\n      <td>31.0</td>\n      <td>...</td>\n      <td>4</td>\n      <td>22.0</td>\n      <td>31.0</td>\n      <td>228</td>\n      <td>16</td>\n      <td>Small SUV</td>\n      <td>Black</td>\n      <td>0.0</td>\n      <td>CA</td>\n      <td>0</td>\n    </tr>\n    <tr>\n      <th>132714</th>\n      <td>21700</td>\n      <td>5300</td>\n      <td>Mercedes-Benz</td>\n      <td>ML350</td>\n      <td>NaN</td>\n      <td>2004</td>\n      <td>75800</td>\n      <td>3.5L</td>\n      <td>6</td>\n      <td>15.0</td>\n      <td>...</td>\n      <td>4</td>\n      <td>22.0</td>\n      <td>31.0</td>\n      <td>228</td>\n      <td>16</td>\n      <td>Small SUV</td>\n      <td>Black</td>\n      <td>0.0</td>\n      <td>CA</td>\n      <td>0</td>\n    </tr>\n    <tr>\n      <th>132715</th>\n      <td>21700</td>\n      <td>8300</td>\n      <td>Kia</td>\n      <td>Forte</td>\n      <td>Not Premium</td>\n      <td>2013</td>\n      <td>47300</td>\n      <td>2.0L</td>\n      <td>4</td>\n      <td>29.0</td>\n      <td>...</td>\n      <td>4</td>\n      <td>22.0</td>\n      <td>31.0</td>\n      <td>228</td>\n      <td>16</td>\n      <td>Small SUV</td>\n      <td>White</td>\n      <td>0.0</td>\n      <td>CA</td>\n      <td>0</td>\n    </tr>\n    <tr>\n      <th>132716</th>\n      <td>20200</td>\n      <td>5600</td>\n      <td>Toyota</td>\n      <td>Corolla</td>\n      <td>Not Premium</td>\n      <td>2010</td>\n      <td>75000</td>\n      <td>1.8L</td>\n      <td>4</td>\n      <td>27.0</td>\n      <td>...</td>\n      <td>4</td>\n      <td>21.0</td>\n      <td>28.0</td>\n      <td>240</td>\n      <td>17</td>\n      <td>Small SUV</td>\n      <td>Black</td>\n      <td>1.0</td>\n      <td>CA</td>\n      <td>3</td>\n    </tr>\n  </tbody>\n</table>\n<p>132717 rows × 31 columns</p>\n</div>"
     },
     "execution_count": 1,
     "metadata": {},
     "output_type": "execute_result"
    }
   ],
   "source": [
    "from notebook_help.cm_main import *\n",
    "\n",
    "path = \"/Users/danieltuttle/projects/car_max_analytics/carmax/data/winter_2024_data.csv\"\n",
    "df = show_data(path)\n",
    "\n",
    "# Whole data set\n",
    "df\n",
    "\n",
    "\n"
   ]
  },
  {
   "cell_type": "code",
   "execution_count": 2,
   "outputs": [
    {
     "data": {
      "text/plain": "make_appraisal\nAcura                3\nAlfa Romeo           3\nAudi                12\nBMW                 23\nBuick             1134\nCadillac           168\nChevrolet        14693\nChrysler          2260\nDodge             5757\nFiat               286\nFord             17912\nGMC               2553\nGenesis             17\nHonda            13071\nHyundai           9282\nInfiniti           742\nJaguar              36\nJeep             10848\nKia               6095\nLand Rover         350\nLexus             2035\nLincoln             56\nMazda             2086\nMercedes-Benz     2409\nMercury             69\nMini               290\nMitsubishi         460\nNissan           16187\nOldsmobile           1\nPlymouth             1\nPontiac             53\nPorsche             92\nRam               2575\nSaab                 1\nSaturn              38\nScion              312\nSmart               28\nSubaru            1829\nSuzuki               5\nToyota           15635\nVolkswagen        3103\nVolvo              207\ndtype: int64"
     },
     "execution_count": 2,
     "metadata": {},
     "output_type": "execute_result"
    }
   ],
   "source": [
    "# Number of cars per brand\n",
    "count_car_makes(df)"
   ],
   "metadata": {
    "collapsed": false,
    "ExecuteTime": {
     "end_time": "2023-11-24T00:31:36.175607Z",
     "start_time": "2023-11-24T00:31:36.169692Z"
    }
   },
   "id": "24bec03e732fbc2"
  },
  {
   "cell_type": "code",
   "execution_count": 3,
   "outputs": [
    {
     "data": {
      "text/plain": "model_appraisal\n124 Spider         5\n1500            2444\n1500 Classic     127\n200              868\n3-Sep              1\n                ... \niM                10\niQ                 7\ntC               120\nxA                 9\nxB                99\nLength: 437, dtype: int64"
     },
     "execution_count": 3,
     "metadata": {},
     "output_type": "execute_result"
    }
   ],
   "source": [
    "# Number of cars by model\n",
    "count_car_models(df)"
   ],
   "metadata": {
    "collapsed": false,
    "ExecuteTime": {
     "end_time": "2023-11-24T00:31:36.184343Z",
     "start_time": "2023-11-24T00:31:36.178085Z"
    }
   },
   "id": "fd4ce743f7e73872"
  },
  {
   "cell_type": "code",
   "execution_count": 4,
   "outputs": [
    {
     "name": "stdout",
     "output_type": "stream",
     "text": [
      "suv mean\n",
      "22395.48732139531\n",
      "non suv mean\n",
      "21255.602856596757\n"
     ]
    }
   ],
   "source": [
    "# Non SUV and SUV mean price\n",
    "suv_mean = suv_mean_price(df)\n",
    "print(\"suv mean\")\n",
    "print(suv_mean)\n",
    "\n",
    "non_suv_mean = non_suv_mean_price(df)\n",
    "print(\"non suv mean\")\n",
    "print(non_suv_mean)\n"
   ],
   "metadata": {
    "collapsed": false,
    "ExecuteTime": {
     "end_time": "2023-11-24T00:31:36.250641Z",
     "start_time": "2023-11-24T00:31:36.207142Z"
    }
   },
   "id": "60eb4464a9083e48"
  },
  {
   "cell_type": "code",
   "execution_count": 5,
   "outputs": [
    {
     "data": {
      "text/plain": "        price  appraisal_offer make_appraisal model_appraisal  \\\n0       19500            18800            Kia        Sportage   \n1       24000             9000           Ford          Escape   \n2       24000             9800          Dodge      Challenger   \n3       33000            14600         Toyota          Tacoma   \n4       14200            19500           Jeep        Cherokee   \n...       ...              ...            ...             ...   \n132712  16500             3400        Hyundai         Elantra   \n132713  20200            10500          Honda           Civic   \n132714  21700             5300  Mercedes-Benz           ML350   \n132715  21700             8300            Kia           Forte   \n132716  20200             5600         Toyota         Corolla   \n\n       trim_level_appraisal  model_year_appraisal  mileage_appraisal  \\\n0               Not Premium                  2014              19300   \n1                   Premium                  2012              39300   \n2               Not Premium                  2013             106100   \n3                   Premium                  2014             105800   \n4               Not Premium                  2015              20400   \n...                     ...                   ...                ...   \n132712              Premium                  2010              97800   \n132713          Not Premium                  2012              40300   \n132714                  NaN                  2004              75800   \n132715          Not Premium                  2013              47300   \n132716          Not Premium                  2010              75000   \n\n       engine_appraisal  cylinders_appraisal  mpg_city_appraisal  ...  \\\n0                  2.4L                    4                21.0  ...   \n1                  1.6L                    4                22.0  ...   \n2                  3.6L                    6                19.0  ...   \n3                  3.5L                    6                19.0  ...   \n4                  2.4L                    4                22.0  ...   \n...                 ...                  ...                 ...  ...   \n132712             1.8L                    4                28.0  ...   \n132713             2.0L                    4                31.0  ...   \n132714             3.5L                    6                15.0  ...   \n132715             2.0L                    4                29.0  ...   \n132716             1.8L                    4                27.0  ...   \n\n        mpg_highway  horsepower  fuel_capacity               vehicle_type  \\\n0              34.0         134             16  Small SUV                   \n1              27.0         271             15  Small SUV                   \n2               NaN         248             12  Luxury                      \n3              24.0         380             16  Medium SUV                  \n4               NaN         188             14  Small SUV                   \n...             ...         ...            ...                        ...   \n132712         32.0         228             16  Small SUV                   \n132713         31.0         228             16  Small SUV                   \n132714         31.0         228             16  Small SUV                   \n132715         31.0         228             16  Small SUV                   \n132716         28.0         240             17  Small SUV                   \n\n        color online_appraisal_flag state days_since_offer  percentile_price  \\\n0        Gray                   0.0    CA                0                 4   \n1       Black                   0.0    IL                0                 6   \n2       White                   0.0    CA                0                 6   \n3       Black                   1.0    CA                1                 9   \n4        Gold                   0.0    FL                0                 0   \n...       ...                   ...   ...              ...               ...   \n132712  White                   0.0    CA                0                 2   \n132713  Black                   0.0    CA                0                 4   \n132714  Black                   0.0    CA                0                 5   \n132715  White                   0.0    CA                0                 5   \n132716  Black                   1.0    CA                3                 4   \n\n        percentile_appraisal_offer  \n0                                8  \n1                                5  \n2                                6  \n3                                8  \n4                                9  \n...                            ...  \n132712                           2  \n132713                           6  \n132714                           3  \n132715                           5  \n132716                           4  \n\n[132717 rows x 33 columns]",
      "text/html": "<div>\n<style scoped>\n    .dataframe tbody tr th:only-of-type {\n        vertical-align: middle;\n    }\n\n    .dataframe tbody tr th {\n        vertical-align: top;\n    }\n\n    .dataframe thead th {\n        text-align: right;\n    }\n</style>\n<table border=\"1\" class=\"dataframe\">\n  <thead>\n    <tr style=\"text-align: right;\">\n      <th></th>\n      <th>price</th>\n      <th>appraisal_offer</th>\n      <th>make_appraisal</th>\n      <th>model_appraisal</th>\n      <th>trim_level_appraisal</th>\n      <th>model_year_appraisal</th>\n      <th>mileage_appraisal</th>\n      <th>engine_appraisal</th>\n      <th>cylinders_appraisal</th>\n      <th>mpg_city_appraisal</th>\n      <th>...</th>\n      <th>mpg_highway</th>\n      <th>horsepower</th>\n      <th>fuel_capacity</th>\n      <th>vehicle_type</th>\n      <th>color</th>\n      <th>online_appraisal_flag</th>\n      <th>state</th>\n      <th>days_since_offer</th>\n      <th>percentile_price</th>\n      <th>percentile_appraisal_offer</th>\n    </tr>\n  </thead>\n  <tbody>\n    <tr>\n      <th>0</th>\n      <td>19500</td>\n      <td>18800</td>\n      <td>Kia</td>\n      <td>Sportage</td>\n      <td>Not Premium</td>\n      <td>2014</td>\n      <td>19300</td>\n      <td>2.4L</td>\n      <td>4</td>\n      <td>21.0</td>\n      <td>...</td>\n      <td>34.0</td>\n      <td>134</td>\n      <td>16</td>\n      <td>Small SUV</td>\n      <td>Gray</td>\n      <td>0.0</td>\n      <td>CA</td>\n      <td>0</td>\n      <td>4</td>\n      <td>8</td>\n    </tr>\n    <tr>\n      <th>1</th>\n      <td>24000</td>\n      <td>9000</td>\n      <td>Ford</td>\n      <td>Escape</td>\n      <td>Premium</td>\n      <td>2012</td>\n      <td>39300</td>\n      <td>1.6L</td>\n      <td>4</td>\n      <td>22.0</td>\n      <td>...</td>\n      <td>27.0</td>\n      <td>271</td>\n      <td>15</td>\n      <td>Small SUV</td>\n      <td>Black</td>\n      <td>0.0</td>\n      <td>IL</td>\n      <td>0</td>\n      <td>6</td>\n      <td>5</td>\n    </tr>\n    <tr>\n      <th>2</th>\n      <td>24000</td>\n      <td>9800</td>\n      <td>Dodge</td>\n      <td>Challenger</td>\n      <td>Not Premium</td>\n      <td>2013</td>\n      <td>106100</td>\n      <td>3.6L</td>\n      <td>6</td>\n      <td>19.0</td>\n      <td>...</td>\n      <td>NaN</td>\n      <td>248</td>\n      <td>12</td>\n      <td>Luxury</td>\n      <td>White</td>\n      <td>0.0</td>\n      <td>CA</td>\n      <td>0</td>\n      <td>6</td>\n      <td>6</td>\n    </tr>\n    <tr>\n      <th>3</th>\n      <td>33000</td>\n      <td>14600</td>\n      <td>Toyota</td>\n      <td>Tacoma</td>\n      <td>Premium</td>\n      <td>2014</td>\n      <td>105800</td>\n      <td>3.5L</td>\n      <td>6</td>\n      <td>19.0</td>\n      <td>...</td>\n      <td>24.0</td>\n      <td>380</td>\n      <td>16</td>\n      <td>Medium SUV</td>\n      <td>Black</td>\n      <td>1.0</td>\n      <td>CA</td>\n      <td>1</td>\n      <td>9</td>\n      <td>8</td>\n    </tr>\n    <tr>\n      <th>4</th>\n      <td>14200</td>\n      <td>19500</td>\n      <td>Jeep</td>\n      <td>Cherokee</td>\n      <td>Not Premium</td>\n      <td>2015</td>\n      <td>20400</td>\n      <td>2.4L</td>\n      <td>4</td>\n      <td>22.0</td>\n      <td>...</td>\n      <td>NaN</td>\n      <td>188</td>\n      <td>14</td>\n      <td>Small SUV</td>\n      <td>Gold</td>\n      <td>0.0</td>\n      <td>FL</td>\n      <td>0</td>\n      <td>0</td>\n      <td>9</td>\n    </tr>\n    <tr>\n      <th>...</th>\n      <td>...</td>\n      <td>...</td>\n      <td>...</td>\n      <td>...</td>\n      <td>...</td>\n      <td>...</td>\n      <td>...</td>\n      <td>...</td>\n      <td>...</td>\n      <td>...</td>\n      <td>...</td>\n      <td>...</td>\n      <td>...</td>\n      <td>...</td>\n      <td>...</td>\n      <td>...</td>\n      <td>...</td>\n      <td>...</td>\n      <td>...</td>\n      <td>...</td>\n      <td>...</td>\n    </tr>\n    <tr>\n      <th>132712</th>\n      <td>16500</td>\n      <td>3400</td>\n      <td>Hyundai</td>\n      <td>Elantra</td>\n      <td>Premium</td>\n      <td>2010</td>\n      <td>97800</td>\n      <td>1.8L</td>\n      <td>4</td>\n      <td>28.0</td>\n      <td>...</td>\n      <td>32.0</td>\n      <td>228</td>\n      <td>16</td>\n      <td>Small SUV</td>\n      <td>White</td>\n      <td>0.0</td>\n      <td>CA</td>\n      <td>0</td>\n      <td>2</td>\n      <td>2</td>\n    </tr>\n    <tr>\n      <th>132713</th>\n      <td>20200</td>\n      <td>10500</td>\n      <td>Honda</td>\n      <td>Civic</td>\n      <td>Not Premium</td>\n      <td>2012</td>\n      <td>40300</td>\n      <td>2.0L</td>\n      <td>4</td>\n      <td>31.0</td>\n      <td>...</td>\n      <td>31.0</td>\n      <td>228</td>\n      <td>16</td>\n      <td>Small SUV</td>\n      <td>Black</td>\n      <td>0.0</td>\n      <td>CA</td>\n      <td>0</td>\n      <td>4</td>\n      <td>6</td>\n    </tr>\n    <tr>\n      <th>132714</th>\n      <td>21700</td>\n      <td>5300</td>\n      <td>Mercedes-Benz</td>\n      <td>ML350</td>\n      <td>NaN</td>\n      <td>2004</td>\n      <td>75800</td>\n      <td>3.5L</td>\n      <td>6</td>\n      <td>15.0</td>\n      <td>...</td>\n      <td>31.0</td>\n      <td>228</td>\n      <td>16</td>\n      <td>Small SUV</td>\n      <td>Black</td>\n      <td>0.0</td>\n      <td>CA</td>\n      <td>0</td>\n      <td>5</td>\n      <td>3</td>\n    </tr>\n    <tr>\n      <th>132715</th>\n      <td>21700</td>\n      <td>8300</td>\n      <td>Kia</td>\n      <td>Forte</td>\n      <td>Not Premium</td>\n      <td>2013</td>\n      <td>47300</td>\n      <td>2.0L</td>\n      <td>4</td>\n      <td>29.0</td>\n      <td>...</td>\n      <td>31.0</td>\n      <td>228</td>\n      <td>16</td>\n      <td>Small SUV</td>\n      <td>White</td>\n      <td>0.0</td>\n      <td>CA</td>\n      <td>0</td>\n      <td>5</td>\n      <td>5</td>\n    </tr>\n    <tr>\n      <th>132716</th>\n      <td>20200</td>\n      <td>5600</td>\n      <td>Toyota</td>\n      <td>Corolla</td>\n      <td>Not Premium</td>\n      <td>2010</td>\n      <td>75000</td>\n      <td>1.8L</td>\n      <td>4</td>\n      <td>27.0</td>\n      <td>...</td>\n      <td>28.0</td>\n      <td>240</td>\n      <td>17</td>\n      <td>Small SUV</td>\n      <td>Black</td>\n      <td>1.0</td>\n      <td>CA</td>\n      <td>3</td>\n      <td>4</td>\n      <td>4</td>\n    </tr>\n  </tbody>\n</table>\n<p>132717 rows × 33 columns</p>\n</div>"
     },
     "execution_count": 5,
     "metadata": {},
     "output_type": "execute_result"
    }
   ],
   "source": [
    "# Adds a column called percentile and allocates a number between 0-9 inclusive which corresponds to the price percentile of the price. Here this is done for the appraisal offer as well as the received price.\n",
    "percentile_df = add_precentile_price_column(df)\n",
    "percentile_df = add_precentile_appraisal_offer_column(df)\n",
    "percentile_df"
   ],
   "metadata": {
    "collapsed": false,
    "ExecuteTime": {
     "end_time": "2023-11-24T00:31:36.313781Z",
     "start_time": "2023-11-24T00:31:36.253181Z"
    }
   },
   "id": "611dcaa2b9cbd981"
  }
 ],
 "metadata": {
  "kernelspec": {
   "display_name": "Python 3 (ipykernel)",
   "language": "python",
   "name": "python3"
  },
  "language_info": {
   "codemirror_mode": {
    "name": "ipython",
    "version": 3
   },
   "file_extension": ".py",
   "mimetype": "text/x-python",
   "name": "python",
   "nbconvert_exporter": "python",
   "pygments_lexer": "ipython3",
   "version": "3.9.6"
  }
 },
 "nbformat": 4,
 "nbformat_minor": 5
}
